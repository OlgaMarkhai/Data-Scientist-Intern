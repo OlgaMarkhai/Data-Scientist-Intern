{
 "cells": [
  {
   "cell_type": "markdown",
   "id": "299561fc",
   "metadata": {},
   "source": [
    "Нашей компании нужно сгруппировать клиентов для АБ-тестов. Алгоритм группировки очень простой - взять ID клиента (состоит из 5-7 цифр, например 7412567) и найти сумму всех его цифр. Получившееся число и является номером группы, в которую входит данный клиент.\n",
    "\n",
    "Для того, чтобы понять, насколько хорош такой простой алгоритм, тебе нужно написать следующие диагностические функции:\n",
    "\n",
    "Функция, которая подсчитывает число покупателей, попадающих в каждую группу, если нумерация ID сквозная и начинается с 0. На вход функция получает целое число n_customers (количество клиентов).\n",
    "\n",
    "Функция, аналогичная первой, если ID начинается с произвольного числа. На вход функция получает целые числа: n_customers (количество клиентов) и n_first_id (первый ID в последовательности).\n",
    "\n",
    "Напишите код функций на Python и оформите его в репозиторий Github. В форму ответа вставьте ссылку на репозиторий, убедитесь, что он публичный. \n",
    "\n",
    "Дополнительно к работоспособности оценим:\n",
    "\n",
    "читабельность и аккуратность кода;\n",
    "производительность кода."
   ]
  },
  {
   "cell_type": "code",
   "execution_count": 58,
   "id": "b1217d1c",
   "metadata": {},
   "outputs": [
    {
     "name": "stdout",
     "output_type": "stream",
     "text": [
      "{42: 6, 39: 5, 36: 8, 33: 16, 25: 4, 28: 7, 30: 13, 24: 9, 48: 3, 40: 7, 41: 3, 22: 3, 34: 12, 37: 12, 38: 12, 27: 8, 19: 2, 32: 11, 26: 5, 29: 10, 45: 2, 35: 10, 21: 5, 17: 2, 43: 3, 31: 13, 20: 2, 16: 1, 44: 2, 49: 1, 13: 1, 18: 1, 23: 1}\n"
     ]
    }
   ],
   "source": [
    "def count_customers(n_customers):\n",
    "    list_of_id = [randint(0,9999999) for i in range(n_customers)]\n",
    "    group_number_list = []\n",
    "    for i in list_of_id:\n",
    "        sum_cur = sum(map(int,str(i)))\n",
    "        group_number_list.append(sum_cur) \n",
    "    count_group_number = {} \n",
    "    for f in group_number_list:\n",
    "        if f not in count_group_number.keys():\n",
    "            count_group_number[f] = 1\n",
    "        else:\n",
    "            count_group_number[f] += 1\n",
    "    print(count_group_number)       \n",
    "count_customers(200)"
   ]
  },
  {
   "cell_type": "code",
   "execution_count": 73,
   "id": "a70baa7d",
   "metadata": {},
   "outputs": [
    {
     "name": "stdout",
     "output_type": "stream",
     "text": [
      "{39: 1, 31: 1, 34: 1, 18: 1, 27: 2, 38: 1, 26: 1, 23: 1, 20: 1, 17: 1, 19: 1, 33: 1}\n"
     ]
    }
   ],
   "source": [
    "def count_customers1(n_customers,n_first_id):\n",
    "    list_of_id = [randint(0,9999999) for i in range(n_customers)]\n",
    "    group_number_list = []\n",
    "    for i in list_of_id:\n",
    "        first_id = int(str(i)[0])\n",
    "        if first_id == n_first_id:\n",
    "            sum_cur = sum(map(int,str(i)))\n",
    "            group_number_list.append(sum_cur) \n",
    "        count_group_number = {} \n",
    "        for f in group_number_list:\n",
    "            if f not in count_group_number.keys():\n",
    "                count_group_number[f] = 1\n",
    "            else:\n",
    "                count_group_number[f] += 1\n",
    "    print(count_group_number)      \n",
    "    \n",
    "count_customers1(100,2)"
   ]
  }
 ],
 "metadata": {
  "kernelspec": {
   "display_name": "Python 3 (ipykernel)",
   "language": "python",
   "name": "python3"
  },
  "language_info": {
   "codemirror_mode": {
    "name": "ipython",
    "version": 3
   },
   "file_extension": ".py",
   "mimetype": "text/x-python",
   "name": "python",
   "nbconvert_exporter": "python",
   "pygments_lexer": "ipython3",
   "version": "3.9.12"
  }
 },
 "nbformat": 4,
 "nbformat_minor": 5
}
